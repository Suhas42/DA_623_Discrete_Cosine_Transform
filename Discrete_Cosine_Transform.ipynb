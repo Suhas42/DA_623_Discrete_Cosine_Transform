{
  "nbformat": 4,
  "nbformat_minor": 0,
  "metadata": {
    "colab": {
      "provenance": [],
      "authorship_tag": "ABX9TyO2XGWdR+KZd9zkwCREdSjt",
      "include_colab_link": true
    },
    "kernelspec": {
      "name": "python3",
      "display_name": "Python 3"
    },
    "language_info": {
      "name": "python"
    }
  },
  "cells": [
    {
      "cell_type": "markdown",
      "metadata": {
        "id": "view-in-github",
        "colab_type": "text"
      },
      "source": [
        "<a href=\"https://colab.research.google.com/github/Suhas42/DA_623_Discrete_Cosine_Transform/blob/main/Discrete_Cosine_Transform.ipynb\" target=\"_parent\"><img src=\"https://colab.research.google.com/assets/colab-badge.svg\" alt=\"Open In Colab\"/></a>"
      ]
    },
    {
      "cell_type": "markdown",
      "source": [
        "**Introduction:**\n",
        "\n",
        "The Discrete Cosine Transform (DCT) is a widely used mathematical technique in signal processing and data compression. It's particularly notable for its applications in image and video compression, where it's used in standards like JPEG (Joint Photographic Experts Group) for still images and MPEG (Moving Picture Experts Group) for video.\n",
        "\n",
        "## Discrete Cosine Transform and its applications:\n",
        "\n",
        "What is the Discrete Cosine Transform (DCT)?\n",
        "The Discrete Cosine Transform is a technique used to convert spatial-domain data into frequency-domain data. In simpler terms, it transforms a sequence of values, typically representing pixels in an image or samples in a signal, into a set of frequency components.\n",
        "\n",
        "## <ins> Types of DCT:</ins>\n",
        "\n",
        "There are several variants of the Discrete Cosine Transform, with the most common ones being:\n",
        "\n",
        "DCT Type I: Used in JPEG compression for converting spatial data into frequency data.\n",
        "\n",
        "DCT Type II: Also known as the standard DCT, commonly used in image and video compression.\n",
        "\n",
        "DCT Type III: Inverse of Type II DCT, used to reconstruct the original data from frequency components.\n",
        "\n",
        "DCT Type IV: Less common, used in some specialized applications.\n",
        "\n",
        "![alt text](https://drive.google.com/uc?id=1Z4bQ0_XNSa3QgSH5fdbStxq5IVNbD15d)\n",
        "\n",
        "## <ins> Applications of DCT:</ins>\n",
        "\n",
        "1. *JPEG Image Compression*:\n",
        " In JPEG compression, the DCT is applied to image blocks to transform spatial information into frequency information. This allows for efficient compression by discarding high-frequency components with less visual importance. Image is stored or transmitted with having pixel value. It can be compressed by reducing the value its every pixel contains. Image compression is basically of two types :\n",
        "\n",
        "  1. *Lossless compression* : In this type of compression, after recovering image is exactly become same as that was before applying compression techniques and so, its quality didn’t gets reduced.\n",
        "  \n",
        "  2. *Lossy compression* : In this type of compression, after recovering we can’t get exactly as older data and that’s why the quality of image gets significantly reduced. But this type of compression results in very high compression of image data and is very useful in transmitting image over network.\n",
        "\n",
        "Discrete Cosine Transform is used in lossy image compression because it has very strong energy compaction, i.e., its large amount of information is stored in very low frequency component of a signal and rest other frequency having very small data which can be stored by using very less number of bits (usually, at most 2 or 3 bit).\n",
        "\n",
        "To perform DCT Transformation on an image, first we have to fetch image file information (pixel value in term of integer having range 0 – 255) which we divides in block of 8 X 8 matrix and then we apply discrete cosine transform on that block of data.\n",
        "\n",
        "2. *MPEG Video Compression:*\n",
        "MPEG standards, such as MPEG-1, MPEG-2, and MPEG-4, use DCT for compressing video frames. Similar to JPEG, DCT is applied to blocks of video frames to reduce redundancy and achieve compression.\n",
        "\n",
        "3. *MP3 Audio Compression*:\n",
        "While MP3 primarily uses the Discrete Fourier Transform (DFT), which is closely related to the DCT, for frequency analysis, DCT is still employed in some stages of MP3 compression for better efficiency.\n",
        "\n",
        "## <ins> Steps in DCT Compression:</ins>\n",
        "\n",
        "*Partitioning* : The image or signal is divided into blocks of fixed size (e.g., 8x8 pixels for JPEG).\n",
        "\n",
        "*DCT Transformation* : Each block is transformed using the DCT to obtain its frequency coefficients.\n",
        "\n",
        "*Quantization* : The frequency coefficients are quantized, typically using a quantization matrix, to reduce the precision of high-frequency components.\n",
        "\n",
        "*Entropy Coding*: The quantized coefficients are encoded using techniques like Huffman coding to achieve further compression.\n",
        "\n",
        "*Decompression*: The compressed data is decompressed by reversing the compression steps, including inverse DCT to reconstruct the original image or signal.\n",
        "\n",
        "## <ins> Advantages of DCT:</ins>\n",
        "\n",
        "DCT-based compression methods offer good compression efficiency with minimal loss of quality.\n",
        "\n",
        "It's computationally efficient, making it suitable for real-time applications like video streaming.\n",
        "\n",
        "\n",
        "\n",
        "\n"
      ],
      "metadata": {
        "id": "R88qlB_4a0k2"
      }
    },
    {
      "cell_type": "markdown",
      "source": [
        "![alt text](https://drive.google.com/uc?id=1mHWcwu4WObtsWPz6g_AGjko1ZzVvmnaN)\n",
        "\n",
        "\n",
        "\n",
        "# **<ins>Problem</ins>**\n",
        "\n",
        "![alt text](https://drive.google.com/uc?id=1qS0LtFInXFeau7u1rw0c9TKW0jG7FJ7X)\n",
        "\n",
        "![alt text](https://drive.google.com/uc?id=1rqVQQNju32vRRJpBWPp2gBfZbMv_6bWy)"
      ],
      "metadata": {
        "id": "QOC0QfQsyt73"
      }
    },
    {
      "cell_type": "markdown",
      "source": [
        "Suppose we have an image where N * N has a grayscale value of f(x, y) at coordinates (x, y), then the DCT formula is as follows:\n",
        "\n",
        "![alt text](https://drive.google.com/uc?id=1cYVd3AiOQMVIIcjWpxBmjL3Hihd0AAF4)\n",
        "\n",
        "D(i, j) is the value of the frequency coefficient at the position (i, j) of the image on the frequency domain. DCT also has the same inverse function as FT, IDCT (Inverse DCT), and the formula is as follows:\n",
        "\n",
        "![alt text](https://drive.google.com/uc?id=1xkx52dMZo3GO2_x46T-N6NWDUomEqnbb)\n",
        "\n",
        "The converted spectrogram can determine the direction and intensity of the texture, and the actual partition corresponding to the image is as follows:\n",
        "\n",
        "![alt text](https://drive.google.com/uc?id=105yhjyt3szLKV6Q_uzTYYO18DOmuU1td)\n",
        "\n",
        "**Practical application**\n",
        "\n",
        "Through python's Open-CV, the image can be converted into the frequency domain, and then the high-frequency pixels can be filtered out through the masking method, I take this image as an example:\n",
        "\n",
        "![alt text](https://drive.google.com/uc?id=1xC5WqpPABeid17F-s0j8tRQvQDaSFwUv)"
      ],
      "metadata": {
        "id": "0jgAmvqaYmzF"
      }
    },
    {
      "cell_type": "markdown",
      "source": [
        "After the code below converts the original image above into a spectrum, and filters the high frequencies with a mask, and then converts the image back to IDCT, the following is the result:\n",
        "\n",
        "![alt text](https://drive.google.com/uc?id=1USZOY8G6RMOAPGvghgN-yg_mAvgcb_oH)\n",
        "\n",
        "As you can see from the above two graphs, DCT has a better \"energy concentration\" characteristic than FT, and the frequency information converted by DCT is concentrated in the low frequency part (in the case of the image, it will be the upper left corner). Then I use a shield of 1/5 of the length and width to retain the low-frequency information in the upper left corner of the spectrum, and then use the inverse function (IDCT) to output the filtered spectrum as the image in the lower right corner.\n",
        "\n",
        "The most obvious example of this is the JPEG image format that we use every day, where DCT is used for lossy compression. Because for the human eye, the amount of information in the low-frequency part of the image is greater than that in the high-frequency part. Therefore, the loss of high-frequency information is very small for the amount of information that can be discerned by human vision, but the amount of data transmission can be greatly reduced."
      ],
      "metadata": {
        "id": "xlVGwhuZj36V"
      }
    },
    {
      "cell_type": "markdown",
      "source": [
        "The following are the transformation formulas and inverse transformation formulas for discrete cosine. It can be clearly seen that the coordinates are used to do the conversion, the coordinates (i, j) can be regarded as spatial coordinates corresponding to different frequencies, and (x, y) is to control the amplitude of the wavelength.\n",
        "\n",
        "![alt text](https://drive.google.com/uc?id=1Eu5xGdiTFvfhK5iTd_kxbTDyK7g8AQbh)\n",
        "\n",
        "![alt text](https://drive.google.com/uc?id=1Ej8i3RnoulCpn78l5hH9niOjQVcDTBtD)\n",
        "\n",
        "The DCT transformation was tested using the following figure, but if the matrix of the output can be observed, there are many values close to 0, so the value square plot is visualized as follows for easier viewing.\n",
        "\n",
        "Before conversion\n",
        "\n",
        "![alt text](https://drive.google.com/uc?id=1j1EA63AzhKMklG5DC0kLlNI7Nis7dWJG)"
      ],
      "metadata": {
        "id": "Z_cMqGiVmEAh"
      }
    },
    {
      "cell_type": "markdown",
      "source": [
        "![alt text](https://drive.google.com/uc?id=1rl59ujUircl0wv63UCJ_C0q2zbZVI6rn)\n",
        "![alt text](https://drive.google.com/uc?id=1ZtiCaQSK2egdR74gQ_lk8mUOuoDiudiI)\n",
        "\n",
        "After DCT conversion\n",
        "\n",
        "Therefore, DCT is a transformation that can compress the data, for example, JPEG mainly uses DCT to do conversion in quantization and encoding for compression, although it is lossy compression, but people's sensitivity to high frequency is lower than the difference between frequency, so it may not be felt, and finally implemented as a simplified version of DCT, the formula is as mentioned above, here I separate the transformation and inverse transformation and the readability is relatively high."
      ],
      "metadata": {
        "id": "JZGNANEpnIb7"
      }
    },
    {
      "cell_type": "markdown",
      "source": [
        "After applying discrete cosine transform, we will see that its more than 90% data will be in lower frequency component. For simplicity, we took a matrix of size 8 X 8 having all value as 255 (considering image to be completely white) and we are going to perform 2-D discrete cosine transform on that to observe the output.\n",
        "\n",
        "**Algorithm:**\n",
        "\n",
        "Let we are having a 2-D variable named matrix of dimension 8 X 8 which contains image information and a 2-D variable named dct of same dimension which contain the information after applying discrete cosine transform. So, we have the formula\n",
        "dct[i][j] = ci * cj (sum(k=0 to m-1) sum(l=0 to n-1) matrix[k][l] * cos((2*k+1) *i*pi/2*m) * cos((2*l+1) *j*pi/2*n)\n",
        "where ci= 1/sqrt(m) if i=0 else ci= sqrt(2)/sqrt(m) and\n",
        "similarly, cj= 1/sqrt(n) if j=0 else cj= sqrt(2)/sqrt(n)\n",
        "and we have to apply this formula to all the value, i.e., from i=0 to m-1 and j=0 to n-1\n",
        "Here, sum(k=0 to m-1) denotes summation of values from k=0 to k=m-1.\n",
        "In this code, both m and n is equal to 8 and pi is defined as 3.142857."
      ],
      "metadata": {
        "id": "PQKmG4PgpwAu"
      }
    },
    {
      "cell_type": "code",
      "source": [
        "# Python3 program to perform discrete cosine transform\n",
        "import math\n",
        "\n",
        "pi = 3.142857\n",
        "m = 8\n",
        "n = 8\n",
        "\n",
        "# Function to find discrete cosine transform and print it\n",
        "def dctTransform(matrix):\n",
        "\n",
        "\t# dct will store the discrete cosine transform\n",
        "\tdct = []\n",
        "\tfor i in range(m):\n",
        "\t\tdct.append([None for _ in range(n)])\n",
        "\n",
        "\tfor i in range(m):\n",
        "\t\tfor j in range(n):\n",
        "\n",
        "\t\t\t# ci and cj depends on frequency as well as\n",
        "\t\t\t# number of row and columns of specified matrix\n",
        "\t\t\tif (i == 0):\n",
        "\t\t\t\tci = 1 / (m ** 0.5)\n",
        "\t\t\telse:\n",
        "\t\t\t\tci = (2 / m) ** 0.5\n",
        "\t\t\tif (j == 0):\n",
        "\t\t\t\tcj = 1 / (n ** 0.5)\n",
        "\t\t\telse:\n",
        "\t\t\t\tcj = (2 / n) ** 0.5\n",
        "\n",
        "\t\t\t# sum will temporarily store the sum of\n",
        "\t\t\t# cosine signals\n",
        "\t\t\tsum = 0\n",
        "\t\t\tfor k in range(m):\n",
        "\t\t\t\tfor l in range(n):\n",
        "\n",
        "\t\t\t\t\tdct1 = matrix[k][l] * math.cos((2 * k + 1) * i * pi / (\n",
        "\t\t\t\t\t\t2 * m)) * math.cos((2 * l + 1) * j * pi / (2 * n))\n",
        "\t\t\t\t\tsum = sum + dct1\n",
        "\n",
        "\t\t\tdct[i][j] = ci * cj * sum\n",
        "\n",
        "\tfor i in range(m):\n",
        "\t\tfor j in range(n):\n",
        "\t\t\tprint(dct[i][j], end=\"\\t\")\n",
        "\t\tprint()\n",
        "\n",
        "# Driver code\n",
        "matrix = [[255, 255, 255, 255, 255, 255, 255, 255],\n",
        "\t\t[255, 255, 255, 255, 255, 255, 255, 255],\n",
        "\t\t[255, 255, 255, 255, 255, 255, 255, 255],\n",
        "\t\t[255, 255, 255, 255, 255, 255, 255, 255],\n",
        "\t\t[255, 255, 255, 255, 255, 255, 255, 255],\n",
        "\t\t[255, 255, 255, 255, 255, 255, 255, 255],\n",
        "\t\t[255, 255, 255, 255, 255, 255, 255, 255],\n",
        "\t\t[255, 255, 255, 255, 255, 255, 255, 255]]\n",
        "\n",
        "dctTransform(matrix)\n"
      ],
      "metadata": {
        "colab": {
          "base_uri": "https://localhost:8080/"
        },
        "id": "u_8kUIqJYTHQ",
        "outputId": "a0b15865-0d34-4548-c294-59f8532d99f3"
      },
      "execution_count": null,
      "outputs": [
        {
          "output_type": "stream",
          "name": "stdout",
          "text": [
            "2039.9999999999995\t-1.1681078033445202\t1.1910101606541048\t-1.2306043961129725\t1.2892204000077006\t-1.3705578971374432\t1.480259193374122\t-1.626904189710877\t\n",
            "-1.1681078033447012\t0.000668860706007024\t-0.0006819746385176018\t0.0007046463715241202\t-0.0007382100046555706\t0.0007847840071448786\t-0.0008475991738947641\t0.000931568372211089\t\n",
            "1.1910101606542707\t-0.00068197463848918\t0.0006953456876459541\t-0.0007184619311288998\t0.0007526836253646252\t-0.000800170775129061\t0.0008642175194708557\t-0.0009498330491997109\t\n",
            "-1.2306043961130728\t0.0007046463715241202\t-0.0007184619311786378\t0.0007423466567360038\t-0.0007777060254028356\t0.0008267718496846044\t-0.0008929477797785523\t0.0009814095333116057\t\n",
            "1.2892204000077108\t-0.0007382100047408358\t0.0007526836253433089\t-0.0007777060253886248\t0.0008147496273664956\t-0.0008661525492072997\t0.0009354805634451679\t-0.0010281559168010546\t\n",
            "-1.3705578971374133\t0.0007847840071093515\t-0.000800170775129061\t0.0008267718496810517\t-0.0008661525492108524\t0.0009207985046231215\t-0.000994500454542191\t0.0010930227377929924\t\n",
            "1.4802591933741172\t-0.0008475991738450261\t0.0008642175194708557\t-0.000892947779782105\t0.0009354805634309571\t-0.000994500454552849\t0.0010741016076369903\t-0.001180509746856906\t\n",
            "-1.6269041897109071\t0.0009315683721755619\t-0.0009498330491766183\t0.000981409533283184\t-0.0010281559167850673\t0.0010930227377778934\t-0.0011805097468391423\t0.0012974594325978472\t\n"
          ]
        }
      ]
    }
  ]
}